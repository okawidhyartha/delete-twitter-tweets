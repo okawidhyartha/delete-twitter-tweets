{
 "cells": [
  {
   "cell_type": "code",
   "execution_count": 109,
   "id": "1ed1e3ec-a7cd-4f2f-b0b3-e0d530f3226f",
   "metadata": {},
   "outputs": [
    {
     "name": "stdout",
     "output_type": "stream",
     "text": [
      "3.12.3 (main, Apr  9 2024, 08:09:14) [Clang 15.0.0 (clang-1500.3.9.4)]\n"
     ]
    }
   ],
   "source": [
    "import sys\n",
    "print(sys.version)"
   ]
  },
  {
   "cell_type": "code",
   "execution_count": 1,
   "id": "7d6caecf-017d-464d-b41c-2b2c89422fd5",
   "metadata": {},
   "outputs": [
    {
     "name": "stdout",
     "output_type": "stream",
     "text": [
      "Collecting selenium\n",
      "  Downloading selenium-4.20.0-py3-none-any.whl.metadata (6.9 kB)\n",
      "Requirement already satisfied: urllib3<3,>=1.26 in /opt/homebrew/Cellar/jupyterlab/4.1.6_1/libexec/lib/python3.12/site-packages (from urllib3[socks]<3,>=1.26->selenium) (2.2.1)\n",
      "Collecting trio~=0.17 (from selenium)\n",
      "  Downloading trio-0.25.0-py3-none-any.whl.metadata (8.7 kB)\n",
      "Collecting trio-websocket~=0.9 (from selenium)\n",
      "  Downloading trio_websocket-0.11.1-py3-none-any.whl.metadata (4.7 kB)\n",
      "Requirement already satisfied: certifi>=2021.10.8 in /opt/homebrew/opt/certifi/lib/python3.12/site-packages (from selenium) (2024.2.2)\n",
      "Collecting typing_extensions>=4.9.0 (from selenium)\n",
      "  Downloading typing_extensions-4.11.0-py3-none-any.whl.metadata (3.0 kB)\n",
      "Requirement already satisfied: attrs>=23.2.0 in /opt/homebrew/Cellar/jupyterlab/4.1.6_1/libexec/lib/python3.12/site-packages (from trio~=0.17->selenium) (23.2.0)\n",
      "Collecting sortedcontainers (from trio~=0.17->selenium)\n",
      "  Downloading sortedcontainers-2.4.0-py2.py3-none-any.whl.metadata (10 kB)\n",
      "Requirement already satisfied: idna in /opt/homebrew/Cellar/jupyterlab/4.1.6_1/libexec/lib/python3.12/site-packages (from trio~=0.17->selenium) (3.7)\n",
      "Collecting outcome (from trio~=0.17->selenium)\n",
      "  Downloading outcome-1.3.0.post0-py2.py3-none-any.whl.metadata (2.6 kB)\n",
      "Requirement already satisfied: sniffio>=1.3.0 in /opt/homebrew/Cellar/jupyterlab/4.1.6_1/libexec/lib/python3.12/site-packages (from trio~=0.17->selenium) (1.3.1)\n",
      "Collecting wsproto>=0.14 (from trio-websocket~=0.9->selenium)\n",
      "  Downloading wsproto-1.2.0-py3-none-any.whl.metadata (5.6 kB)\n",
      "Collecting pysocks!=1.5.7,<2.0,>=1.5.6 (from urllib3[socks]<3,>=1.26->selenium)\n",
      "  Downloading PySocks-1.7.1-py3-none-any.whl.metadata (13 kB)\n",
      "Requirement already satisfied: h11<1,>=0.9.0 in /opt/homebrew/Cellar/jupyterlab/4.1.6_1/libexec/lib/python3.12/site-packages (from wsproto>=0.14->trio-websocket~=0.9->selenium) (0.14.0)\n",
      "Downloading selenium-4.20.0-py3-none-any.whl (9.5 MB)\n",
      "\u001b[2K   \u001b[90m━━━━━━━━━━━━━━━━━━━━━━━━━━━━━━━━━━━━━━━━\u001b[0m \u001b[32m9.5/9.5 MB\u001b[0m \u001b[31m7.9 MB/s\u001b[0m eta \u001b[36m0:00:00\u001b[0m00:01\u001b[0m00:01\u001b[0m\n",
      "\u001b[?25hDownloading trio-0.25.0-py3-none-any.whl (467 kB)\n",
      "\u001b[2K   \u001b[90m━━━━━━━━━━━━━━━━━━━━━━━━━━━━━━━━━━━━━━━━\u001b[0m \u001b[32m467.2/467.2 kB\u001b[0m \u001b[31m4.7 MB/s\u001b[0m eta \u001b[36m0:00:00\u001b[0ma \u001b[36m0:00:01\u001b[0mm\n",
      "\u001b[?25hDownloading trio_websocket-0.11.1-py3-none-any.whl (17 kB)\n",
      "Downloading typing_extensions-4.11.0-py3-none-any.whl (34 kB)\n",
      "Downloading PySocks-1.7.1-py3-none-any.whl (16 kB)\n",
      "Downloading wsproto-1.2.0-py3-none-any.whl (24 kB)\n",
      "Downloading outcome-1.3.0.post0-py2.py3-none-any.whl (10 kB)\n",
      "Downloading sortedcontainers-2.4.0-py2.py3-none-any.whl (29 kB)\n",
      "Installing collected packages: sortedcontainers, wsproto, typing_extensions, pysocks, outcome, trio, trio-websocket, selenium\n",
      "Successfully installed outcome-1.3.0.post0 pysocks-1.7.1 selenium-4.20.0 sortedcontainers-2.4.0 trio-0.25.0 trio-websocket-0.11.1 typing_extensions-4.11.0 wsproto-1.2.0\n",
      "Note: you may need to restart the kernel to use updated packages.\n"
     ]
    }
   ],
   "source": [
    "pip install selenium"
   ]
  },
  {
   "cell_type": "code",
   "execution_count": 14,
   "id": "41062abe-f5eb-42cc-9f32-f0417cc902ad",
   "metadata": {},
   "outputs": [],
   "source": [
    "from selenium import webdriver\n",
    "from selenium.webdriver.common.keys import Keys\n",
    "from selenium.webdriver.common.by import By\n",
    "from time import sleep"
   ]
  },
  {
   "cell_type": "code",
   "execution_count": 65,
   "id": "4a42d54c-f058-4387-b71b-d79aa5a882ea",
   "metadata": {},
   "outputs": [],
   "source": [
    "driver = webdriver.Chrome()"
   ]
  },
  {
   "cell_type": "code",
   "execution_count": 103,
   "id": "c201e5c2-ca7e-4ed0-bc23-e911884612fd",
   "metadata": {},
   "outputs": [],
   "source": [
    "def click_more_button(article) :\n",
    "    try :\n",
    "        more_button = article.find_element(By.XPATH, \".//div[contains(@class, 'css-1rynq56') and contains(@class, 'r-bcqeeo') and contains(@class, 'r-qvutc0') and contains(@class, 'r-37j5jr') and contains(@class, 'r-a023e6') and contains(@class, 'r-rjixqe') and contains(@class, 'r-16dba41') and contains(@class, 'r-1awozwy') and contains(@class, 'r-6koalj') and contains(@class, 'r-1h0z5md') and contains(@class, 'r-o7ynqc') and contains(@class, 'r-clp7b1') and contains(@class, 'r-3s2u2q')]\")\n",
    "        more_button.click()\n",
    "        return True\n",
    "    except :\n",
    "        print(\"Error click_more_button\")\n",
    "        return False"
   ]
  },
  {
   "cell_type": "code",
   "execution_count": 97,
   "id": "a4047493-9659-4368-aec7-05a27a7ba700",
   "metadata": {},
   "outputs": [],
   "source": [
    "def click_delete_option() :\n",
    "    try :\n",
    "        delete_option = driver.find_element(By.XPATH, \"//span[contains(@class, 'css-1qaijid') and contains(@class, 'r-bcqeeo') and contains(@class, 'r-qvutc0') and contains(@class, 'r-poiln3') and text()='Delete']\")\n",
    "        delete_option.click()\n",
    "        return True\n",
    "    except :\n",
    "        print(\"Error click_delete_option\")\n",
    "        return False"
   ]
  },
  {
   "cell_type": "code",
   "execution_count": 98,
   "id": "679fc14f-bcd0-4bfd-9dc4-190889885d1f",
   "metadata": {},
   "outputs": [],
   "source": [
    "def click_outside() :\n",
    "    try :\n",
    "        webdriver.ActionChains(driver).send_keys(Keys.ESCAPE).perform()\n",
    "        return True\n",
    "    except :\n",
    "        return False"
   ]
  },
  {
   "cell_type": "code",
   "execution_count": 108,
   "id": "79f557fd-50f9-4b8a-b5cd-b10f7ae3b344",
   "metadata": {},
   "outputs": [],
   "source": [
    "def click_unretweet(article) :\n",
    "    try :\n",
    "        unretweet_option = article.find_element(By.XPATH, \".//div[@data-testid='unretweet']\")\n",
    "        unretweet_option.click()\n",
    "        return True\n",
    "    except:\n",
    "        return False"
   ]
  },
  {
   "cell_type": "code",
   "execution_count": 100,
   "id": "b6993971-d2bd-4700-a737-3b4c70dd07a5",
   "metadata": {},
   "outputs": [],
   "source": [
    "def click_undo_repost_option() :\n",
    "    try :\n",
    "        undo_repost_option = driver.find_element(By.XPATH, \"//span[contains(@class, 'css-1qaijid') and contains(@class, 'r-bcqeeo') and contains(@class, 'r-qvutc0') and contains(@class, 'r-poiln3') and text()='Undo repost']\")\n",
    "        undo_repost_option.click()\n",
    "        return True\n",
    "    except:\n",
    "        return False"
   ]
  },
  {
   "cell_type": "markdown",
   "id": "99e2cb93-7c9f-4047-bb7f-80974cdfb974",
   "metadata": {},
   "source": [
    "1. Login first to your twitter account"
   ]
  },
  {
   "cell_type": "code",
   "execution_count": 101,
   "id": "dc04de52-7840-440b-a99f-a426978758aa",
   "metadata": {},
   "outputs": [],
   "source": [
    "driver.get(\"https://www.twitter.com/\")"
   ]
  },
  {
   "cell_type": "markdown",
   "id": "b701bccc-292f-4ed2-bcfe-d2d018648d01",
   "metadata": {},
   "source": [
    "2. Determine which type of your tweets you want to delete.\n",
    "\n",
    "- For tweets and reposts use this: `https://www.twitter.com/okawidhyartha`\n",
    "- For replies use this: `https://www.twitter.com/okawidhyartha/with_replies`"
   ]
  },
  {
   "cell_type": "code",
   "execution_count": 107,
   "id": "0d2a4fd3-1e27-48be-93be-cd9bcc9aa0ef",
   "metadata": {},
   "outputs": [],
   "source": [
    "while(True) :\n",
    "    driver.get(\"https://www.twitter.com/okawidhyartha/with_replies\")\n",
    "    sleep(3)\n",
    "    articles = driver.find_elements(By.XPATH, \"//article\")\n",
    "    if (len(articles) == 0) :\n",
    "        break\n",
    "    \n",
    "    while(True) :\n",
    "        articles = driver.find_elements(By.XPATH, \"//article\")\n",
    "        if (len(articles) == 0) :\n",
    "            break\n",
    "        for article in articles :\n",
    "            if (click_unretweet(article)) :\n",
    "                sleep(0.5)\n",
    "                if (click_undo_repost_option()) :\n",
    "                    sleep(0.5)\n",
    "                    continue\n",
    "                    \n",
    "            if (click_more_button(article)) :\n",
    "                sleep(0.5)\n",
    "            else :\n",
    "                continue\n",
    "            if (click_delete_option()) :\n",
    "                sleep(0.5)\n",
    "            else :\n",
    "                click_outside()\n",
    "                continue\n",
    "            if (click_delete_option()) :\n",
    "                sleep(0.5)\n",
    "            else :\n",
    "                click_outside()\n",
    "                continue\n",
    "            sleep(0.5)"
   ]
  }
 ],
 "metadata": {
  "kernelspec": {
   "display_name": "Python 3 (ipykernel)",
   "language": "python",
   "name": "python3"
  },
  "language_info": {
   "codemirror_mode": {
    "name": "ipython",
    "version": 3
   },
   "file_extension": ".py",
   "mimetype": "text/x-python",
   "name": "python",
   "nbconvert_exporter": "python",
   "pygments_lexer": "ipython3",
   "version": "3.12.3"
  }
 },
 "nbformat": 4,
 "nbformat_minor": 5
}
